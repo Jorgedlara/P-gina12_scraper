{
 "cells": [
  {
   "cell_type": "code",
   "execution_count": 53,
   "metadata": {},
   "outputs": [],
   "source": [
    "import requests"
   ]
  },
  {
   "cell_type": "code",
   "execution_count": 54,
   "metadata": {},
   "outputs": [],
   "source": [
    "url = 'https://www.pagina12.com.ar/'"
   ]
  },
  {
   "cell_type": "code",
   "execution_count": 55,
   "metadata": {},
   "outputs": [],
   "source": [
    "p12 = requests.get(url)"
   ]
  },
  {
   "cell_type": "code",
   "execution_count": 56,
   "metadata": {},
   "outputs": [
    {
     "data": {
      "text/plain": [
       "200"
      ]
     },
     "execution_count": 56,
     "metadata": {},
     "output_type": "execute_result"
    }
   ],
   "source": [
    "p12.status_code"
   ]
  },
  {
   "cell_type": "code",
   "execution_count": 57,
   "metadata": {},
   "outputs": [],
   "source": [
    "#print(p12.text)"
   ]
  },
  {
   "cell_type": "code",
   "execution_count": 58,
   "metadata": {},
   "outputs": [],
   "source": [
    "#p12.content"
   ]
  },
  {
   "cell_type": "code",
   "execution_count": 59,
   "metadata": {},
   "outputs": [
    {
     "data": {
      "text/plain": [
       "{'Date': 'Wed, 08 Jul 2020 18:55:30 GMT', 'Content-Type': 'text/html; charset=utf-8', 'Transfer-Encoding': 'chunked', 'Connection': 'keep-alive', 'Set-Cookie': '__cfduid=d0b6a48a9bee3f3dfcb4d79484fd6ebee1594234530; expires=Fri, 07-Aug-20 18:55:30 GMT; path=/; domain=.pagina12.com.ar; HttpOnly; SameSite=Lax', 'Vary': 'Accept-Encoding', 'X-DNS-Prefetch-Control': 'off', 'Strict-Transport-Security': 'max-age=15724800; includeSubDomains', 'X-Download-Options': 'noopen', 'X-Content-Type-Options': 'nosniff', 'X-XSS-Protection': '1; mode=block', 'X-ETag': 'W/\"59a42-PohjFcDI8nvuGb1nZCe7AHdCxew\"', 'X-Backend': 'frontend', 'X-Backend-TTL': '180.000', 'X-Type': 'Dynamic URI', 'Age': '0', 'grace': '86400.000 none', 'ttl': '119.230', 'x-debug': 'www.pagina12.com.ar', 'X-Instance': 'cache-front-prod-varnish-76c5f88cf6-l8x6d', 'x-restarts': '0', 'X-Cache': 'HIT (6)', 'CF-Cache-Status': 'DYNAMIC', 'cf-request-id': '03d161828d0000b2d2b0345200000001', 'Expect-CT': 'max-age=604800, report-uri=\"https://report-uri.cloudflare.com/cdn-cgi/beacon/expect-ct\"', 'Server': 'cloudflare', 'CF-RAY': '5afc05174997b2d2-MEX', 'Content-Encoding': 'gzip'}"
      ]
     },
     "execution_count": 59,
     "metadata": {},
     "output_type": "execute_result"
    }
   ],
   "source": [
    "p12.headers"
   ]
  },
  {
   "cell_type": "code",
   "execution_count": 60,
   "metadata": {},
   "outputs": [
    {
     "data": {
      "text/plain": [
       "{'User-Agent': 'python-requests/2.22.0', 'Accept-Encoding': 'gzip, deflate', 'Accept': '*/*', 'Connection': 'keep-alive'}"
      ]
     },
     "execution_count": 60,
     "metadata": {},
     "output_type": "execute_result"
    }
   ],
   "source": [
    "p12.request.headers"
   ]
  },
  {
   "cell_type": "code",
   "execution_count": 61,
   "metadata": {},
   "outputs": [
    {
     "data": {
      "text/plain": [
       "'GET'"
      ]
     },
     "execution_count": 61,
     "metadata": {},
     "output_type": "execute_result"
    }
   ],
   "source": [
    "p12.request.method"
   ]
  },
  {
   "cell_type": "code",
   "execution_count": 62,
   "metadata": {},
   "outputs": [],
   "source": [
    "from bs4 import BeautifulSoup"
   ]
  },
  {
   "cell_type": "code",
   "execution_count": 63,
   "metadata": {},
   "outputs": [
    {
     "data": {
      "text/plain": [
       "bs4.BeautifulSoup"
      ]
     },
     "execution_count": 63,
     "metadata": {},
     "output_type": "execute_result"
    }
   ],
   "source": [
    "s = BeautifulSoup(p12.text, 'lxml')\n",
    "type(s)"
   ]
  },
  {
   "cell_type": "code",
   "execution_count": 64,
   "metadata": {},
   "outputs": [],
   "source": [
    "#print(s.prettify())"
   ]
  },
  {
   "cell_type": "code",
   "execution_count": 65,
   "metadata": {},
   "outputs": [
    {
     "data": {
      "text/plain": [
       "[<li class=\"\"><a href=\"https://www.pagina12.com.ar/secciones/el-pais\">El país</a></li>,\n",
       " <li class=\"\"><a href=\"https://www.pagina12.com.ar/secciones/universidad-diario\">Universidad</a></li>,\n",
       " <li class=\"no-border\"><a href=\"https://www.pagina12.com.ar/secciones/economia\">Economía</a></li>,\n",
       " <li class=\"show-for-large\"><a href=\"https://www.pagina12.com.ar/secciones/sociedad\">Sociedad</a></li>,\n",
       " <li class=\"show-for-large\"><a href=\"https://www.pagina12.com.ar/suplementos/cultura-y-espectaculos\">Cultura y Espectáculos</a></li>,\n",
       " <li class=\"show-for-large\"><a href=\"https://www.pagina12.com.ar/secciones/el-mundo\">El mundo</a></li>,\n",
       " <li class=\"show-for-large\"><a href=\"https://www.pagina12.com.ar/secciones/deportes\">Deportes</a></li>,\n",
       " <li class=\"show-for-large\"><a href=\"https://www.pagina12.com.ar/secciones/contratapa\">Contratapa</a></li>]"
      ]
     },
     "execution_count": 65,
     "metadata": {},
     "output_type": "execute_result"
    }
   ],
   "source": [
    "secciones = s.find('ul', attrs = {'class': 'hot-sections'}).find_all('li')\n",
    "secciones"
   ]
  },
  {
   "cell_type": "code",
   "execution_count": 66,
   "metadata": {},
   "outputs": [
    {
     "data": {
      "text/plain": [
       "<li class=\"\"><a href=\"https://www.pagina12.com.ar/secciones/el-pais\">El país</a></li>"
      ]
     },
     "execution_count": 66,
     "metadata": {},
     "output_type": "execute_result"
    }
   ],
   "source": [
    "seccion = secciones[0]\n",
    "seccion"
   ]
  },
  {
   "cell_type": "code",
   "execution_count": 67,
   "metadata": {},
   "outputs": [
    {
     "data": {
      "text/plain": [
       "'https://www.pagina12.com.ar/secciones/el-pais'"
      ]
     },
     "execution_count": 67,
     "metadata": {},
     "output_type": "execute_result"
    }
   ],
   "source": [
    "seccion.a.get('href')"
   ]
  },
  {
   "cell_type": "code",
   "execution_count": 68,
   "metadata": {},
   "outputs": [
    {
     "data": {
      "text/plain": [
       "'El país'"
      ]
     },
     "execution_count": 68,
     "metadata": {},
     "output_type": "execute_result"
    }
   ],
   "source": [
    "seccion.a.get_text()"
   ]
  },
  {
   "cell_type": "code",
   "execution_count": 69,
   "metadata": {},
   "outputs": [
    {
     "data": {
      "text/plain": [
       "['https://www.pagina12.com.ar/secciones/el-pais',\n",
       " 'https://www.pagina12.com.ar/secciones/universidad-diario',\n",
       " 'https://www.pagina12.com.ar/secciones/economia',\n",
       " 'https://www.pagina12.com.ar/secciones/sociedad',\n",
       " 'https://www.pagina12.com.ar/suplementos/cultura-y-espectaculos',\n",
       " 'https://www.pagina12.com.ar/secciones/el-mundo',\n",
       " 'https://www.pagina12.com.ar/secciones/deportes',\n",
       " 'https://www.pagina12.com.ar/secciones/contratapa']"
      ]
     },
     "execution_count": 69,
     "metadata": {},
     "output_type": "execute_result"
    }
   ],
   "source": [
    "links_secciones = [seccion.a.get('href') for seccion in secciones]\n",
    "links_secciones"
   ]
  },
  {
   "cell_type": "code",
   "execution_count": 70,
   "metadata": {},
   "outputs": [
    {
     "data": {
      "text/plain": [
       "200"
      ]
     },
     "execution_count": 70,
     "metadata": {},
     "output_type": "execute_result"
    }
   ],
   "source": [
    "sec = requests.get(links_secciones[0])\n",
    "sec.status_code"
   ]
  },
  {
   "cell_type": "code",
   "execution_count": 71,
   "metadata": {},
   "outputs": [],
   "source": [
    "s_seccion = BeautifulSoup(sec.text, 'lxml')\n",
    "#print(s_seccion.prettify())"
   ]
  },
  {
   "cell_type": "code",
   "execution_count": 72,
   "metadata": {},
   "outputs": [
    {
     "data": {
      "text/plain": [
       "<div class=\"featured-article__container\"><span class=\"title-prefix\"><a href=\"https://www.pagina12.com.ar/277266-malena-galmarini-activo-obras-de-saneamiento-en-ezeiza\">Junto al intendente interino Gastón Granados</a></span><h2><a href=\"https://www.pagina12.com.ar/277266-malena-galmarini-activo-obras-de-saneamiento-en-ezeiza\">Malena Galmarini activó obras de saneamiento en Ezeiza</a></h2><a href=\"https://www.pagina12.com.ar/277266-malena-galmarini-activo-obras-de-saneamiento-en-ezeiza\"><p class=\"subhead\">Los planes en marcha se llaman “Agua + Trabajo” y “Cloaca + Trabajo”. “El agua es esencial, pero sabemos que aún no llega a todos y todas, por eso para nosotros es sumamente importante, en este año y ...</p></a><div class=\"data-bar\"><span class=\"date-1\">08 de julio de 2020</span></div></div>"
      ]
     },
     "execution_count": 72,
     "metadata": {},
     "output_type": "execute_result"
    }
   ],
   "source": [
    "featured_article = s_seccion.find('div', attrs={'class': 'featured-article__container'})\n",
    "featured_article"
   ]
  },
  {
   "cell_type": "code",
   "execution_count": 73,
   "metadata": {},
   "outputs": [
    {
     "data": {
      "text/plain": [
       "'https://www.pagina12.com.ar/277266-malena-galmarini-activo-obras-de-saneamiento-en-ezeiza'"
      ]
     },
     "execution_count": 73,
     "metadata": {},
     "output_type": "execute_result"
    }
   ],
   "source": [
    "featured_article.a.get('href')"
   ]
  },
  {
   "cell_type": "code",
   "execution_count": 74,
   "metadata": {},
   "outputs": [],
   "source": [
    "article_list = s_seccion.find('ul', attrs = {'class': 'article-list'})\n",
    "#article_list"
   ]
  },
  {
   "cell_type": "code",
   "execution_count": 75,
   "metadata": {},
   "outputs": [],
   "source": [
    "def traer_links(seccion_soup):\n",
    "    featured_article = seccion_soup.find('div', attrs={'class': 'featured-article__container'})\n",
    "    featured_article_link = [featured_article.find('a').get('href')]\n",
    "    \n",
    "    articles_h2 = seccion_soup.find('ul', attrs = {'class': 'article-list'}).find_all('h2')\n",
    "    articles_a = [article_h2.find('a', attrs= {'class': ''}) for article_h2 in articles_h2]\n",
    "    articles_links = [article_a.get('href') for article_a in articles_a]\n",
    "    \n",
    "    \"\"\"links = featured_article_link.extend(articles_links)\"\"\"\n",
    "    return featured_article_link + articles_links"
   ]
  },
  {
   "cell_type": "code",
   "execution_count": 76,
   "metadata": {},
   "outputs": [
    {
     "data": {
      "text/plain": [
       "['https://www.pagina12.com.ar/277216-vicentin-piden-inhibir-los-bienes-de-gonzalez-fraga-lucas-ll',\n",
       " 'https://www.pagina12.com.ar/275496-jubilados-julio-2020-quienes-cobran-este-miercoles-8',\n",
       " 'https://www.pagina12.com.ar/275501-asignacion-universal-por-embarazo-julio-2020-quienes-cobran-',\n",
       " 'https://www.pagina12.com.ar/275499-auh-julio-2020-quienes-cobran-este-miercoles-8',\n",
       " 'https://www.pagina12.com.ar/273770-ife-anses-quienes-cobran-este-miercoles-8-de-julio',\n",
       " 'https://www.pagina12.com.ar/277154-en-mayo-la-produccion-en-fabricas-cayo-26',\n",
       " 'https://www.pagina12.com.ar/277155-lento-regreso-de-la-construccion',\n",
       " 'https://www.pagina12.com.ar/277067-sorpresas-te-da-la-vida-cristina-kirchner-cruzo-a-infobae-y-',\n",
       " 'https://www.pagina12.com.ar/277084-latam-busca-irse-y-pagar-lo-menos-posible',\n",
       " 'https://www.pagina12.com.ar/277093-el-plan-repro-sigue-en-la-trinchera',\n",
       " 'https://www.pagina12.com.ar/277100-fusion-de-aerolineas',\n",
       " 'https://www.pagina12.com.ar/277108-moratoria-recargada-para-personas-y-empresas',\n",
       " 'https://www.pagina12.com.ar/277130-el-turno-de-sumar-adhesiones-al-canje-de-deuda',\n",
       " 'https://www.pagina12.com.ar/277140-vicentin-fue-intimada-a-presentar-su-balance',\n",
       " 'https://www.pagina12.com.ar/277141-alivio-de-la-deuda-por-30-mil-millones-de-dolares']"
      ]
     },
     "execution_count": 76,
     "metadata": {},
     "output_type": "execute_result"
    }
   ],
   "source": [
    "seccion_economia = BeautifulSoup(requests.get('https://www.pagina12.com.ar/secciones/economia').text, 'lxml')\n",
    "lista_notas = traer_links(seccion_economia)\n",
    "lista_notas"
   ]
  },
  {
   "cell_type": "code",
   "execution_count": 77,
   "metadata": {},
   "outputs": [
    {
     "ename": "IndentationError",
     "evalue": "expected an indented block (<ipython-input-77-89961c4bf796>, line 4)",
     "output_type": "error",
     "traceback": [
      "\u001b[1;36m  File \u001b[1;32m\"<ipython-input-77-89961c4bf796>\"\u001b[1;36m, line \u001b[1;32m4\u001b[0m\n\u001b[1;33m    else:\u001b[0m\n\u001b[1;37m       ^\u001b[0m\n\u001b[1;31mIndentationError\u001b[0m\u001b[1;31m:\u001b[0m expected an indented block\n"
     ]
    }
   ],
   "source": [
    "r = requests.get(url)\n",
    "if r.status_code == 200:\n",
    "    # Se procesa la respuesta\n",
    "else: \n",
    "    # Se informa el error"
   ]
  },
  {
   "cell_type": "code",
   "execution_count": 78,
   "metadata": {},
   "outputs": [
    {
     "data": {
      "text/plain": [
       "'https://www.pagina13.com.ar/'"
      ]
     },
     "execution_count": 78,
     "metadata": {},
     "output_type": "execute_result"
    }
   ],
   "source": [
    "url_mala = url.replace('2', '3')\n",
    "url_mala"
   ]
  },
  {
   "cell_type": "code",
   "execution_count": 79,
   "metadata": {},
   "outputs": [
    {
     "name": "stdout",
     "output_type": "stream",
     "text": [
      "Error en el request: -----> HTTPSConnectionPool(host='www.pagina13.com.ar', port=443): Max retries exceeded with url: / (Caused by NewConnectionError('<urllib3.connection.VerifiedHTTPSConnection object at 0x000001FCCF4892C8>: Failed to establish a new connection: [Errno 11001] getaddrinfo failed'))\n"
     ]
    }
   ],
   "source": [
    "try:\n",
    "    requests.get(url_mala)\n",
    "except Exception as e:\n",
    "    print(f'Error en el request: -----> {e}')"
   ]
  },
  {
   "cell_type": "code",
   "execution_count": 80,
   "metadata": {},
   "outputs": [
    {
     "data": {
      "text/plain": [
       "'https://www.pagina12.com.ar/277216-vicentin-piden-inhibir-los-bienes-de-gonzalez-fraga-lucas-ll'"
      ]
     },
     "execution_count": 80,
     "metadata": {},
     "output_type": "execute_result"
    }
   ],
   "source": [
    "url_nota = lista_notas[0]\n",
    "url_nota"
   ]
  },
  {
   "cell_type": "code",
   "execution_count": 81,
   "metadata": {},
   "outputs": [
    {
     "name": "stdout",
     "output_type": "stream",
     "text": [
      "Vicentin: piden inhibir los bienes de González Fraga, Lucas Llach y directivos de la empresa\n",
      "2020-07-08\n",
      "\"Otorgaron irregularmente millonarios créditos en moneda extranjera”\n",
      "En un duro dictamen, el fiscal Gerardo Pollicita consideró que las autoridades macristas del Banco Nación \"incumplieron deliberadamente los deberes a su cargo\". Afirmó que los empresarios accedieron a créditos mientras postergaban el pago de sus obligaciones, con el objetivo de que la entidad finalmente no tuviera de donde cobrar la deuda.\n",
      "A travé de un duro dictamen, el fiscal federal Gerardo Pollicita pidió que se ordene la inhibición de bienes al ex presidente del Banco Nación (BN) Javier González Fraga y a su segundo Lucas Llach, así como también a ex funcionarios de esa entidad y a empresarios de Vicentin involucrados en la causa penal que investiga una supuesta defraudación en el otorgamiento de créditos multimillonarios a esa cerealera.\"Otorgaron irregularmente millonarios créditos en moneda extranjera”, dice el planteo presentado ante el juez de la causa, Julián Ercolini. En el escrito de 79 páginas, el fiscal pidió que se disponga esas medidas contra los 24 investigados en esa causa, entre los que están involucradas las personas jurídicas Vicentin SA y Algodonera Avellaneda SA. Sobre estos se pidió que se dicte la \"prohibición de innovar sobre su composición accionaria\".  El dictamen sostiene que \"los elementos probatorios” indican que los funcionarios del BN, “algunas veces por acción y otras por omisión, incumplieron deliberadamente los deberes a su cargo y perjudicaron los intereses confiados en la administración de los fondos de la entidad bancaria\".  \"Otorgaron irregularmente millonarios créditos en moneda extranjera a las firmas Vicentin SA y Algodonera Avellaneda SA, apartándose de la normativa interna que lo regula, y luego omitieron ejecutar en tiempo y forma las garantías que preveían los contratos tendientes a recuperar el dinero que se adeudaba\", puntualizó.También se refirió a una “connivencia” de los empresarios con los funcionarios, a quienes les “solicitaron los empréstitos irregulares, requirieron la liberación de los fondos afectados en garantía”.“En simultáneo –explicó- postergaban el pago de sus obligaciones con el objetivo de que, finalmente, cuando las autoridades del banco quisieran cobrarse la deuda, no quedaran fondos de donde el BNA pudiera hacerlo.\"\n",
      "\n",
      "https://www.pagina12.com.ar/ipad/@@@pdfs/vicentin.pdf\n",
      "\n",
      "El fiscal advirtió que esto había ocurrido a pesar de que esas operatorias fueron reveladas en denuncias públicas, y que hasta las autoridades del Banco Central estuvieron enteradas del hecho.\"Tanto el exceso de endeudamiento de la firma Vicentin como el aumento de la deuda impaga no solamente fue detectado y advertido por el BCRA en el mes de septiembre de 2019 sino que también fue replicado durante los meses de noviembre y diciembre”.Aún así, esto no impidió que “durante el mes de noviembre se volviera a financiar a la compañía, decisión que corrió bajo la órbita gerencial y directiva del banco\", agregó en base a documentación probatoria recibida en la causa.  Para Pollicita, los 18.500 millones de pesos en préstamos del Nación a Vicentín habrían sido \"serían de cobro incierto, puesto que la sociedad se encuentra en estado de cesación de pagos, dado que el pasado 10 de febrero solicitó la apertura de su concurso preventivo\".La semana pasada, el fiscal ordenó medidas de prueba para investigar la \"posible ruta del dinero con el fin de determinar si se trató de una crisis autogenerada por los responsables de Vicentin SA, con el objeto de que una vez obtenida irregularmente la refinanciación por parte de los funcionarios, no pagaran la deuda al Banco de la Nación Argentina”.\n",
      "Por este motivo, solicitó la producción de 13 medidas de prueba, así como también, la recolección de toda la documentación de interés vinculada a los hechos denunciados.\n",
      "Por Adriana Meyer\n"
     ]
    }
   ],
   "source": [
    "try:\n",
    "    nota = requests.get(url_nota)\n",
    "    if nota.status_code == 200:\n",
    "        s_nota = BeautifulSoup(nota.text, 'lxml')\n",
    "        # Extraer el título\n",
    "        titulo = s_nota.find('h1', attrs = {'class': 'article-title'})\n",
    "        print(titulo.text)\n",
    "        #Extraer la fecha\n",
    "        fecha = s_nota.find('span', attrs = {'pubdate': 'pubdate'}).get('datetime')\n",
    "        print (fecha)\n",
    "        #Extraer volanta\n",
    "        volanta = s_nota.find('h2', attrs = {'class': 'article-prefix'})\n",
    "        print(volanta.text)\n",
    "        #Extraer copete\n",
    "        copete = s_nota.find('div', attrs = {'class': 'article-summary'})\n",
    "        print(copete.text)\n",
    "        #Extraer cuerpo\n",
    "        cuerpo = s_nota.find('div', attrs = {'class':'article-text'})\n",
    "        print (cuerpo.text)\n",
    "        #Extraer autor\n",
    "        autor = s_nota.find('div', attrs = {'class': 'article-author'})\n",
    "        print(autor.text)\n",
    "except Exception as e:\n",
    "    print(f'Error ------> {e}\\n')\n",
    "          "
   ]
  },
  {
   "cell_type": "code",
   "execution_count": 82,
   "metadata": {},
   "outputs": [
    {
     "data": {
      "text/plain": [
       "[<img class=\"lazyload show-for-xsmall-only\" data-src=\"https://images.pagina12.com.ar/styles/focal_3_2_470x313/public/2020-07/vicent-c3-adn.jpeg?itok=cu3jpE9J\" src=\"https://www.pagina12.com.ar/assets/media/assets/transparent.gif\"/>,\n",
       " <img class=\"lazyload show-for-small-only\" data-src=\"https://images.pagina12.com.ar/styles/focal_3_2_960x640/public/2020-07/vicent-c3-adn.jpeg?itok=lxDD5Tmn\" src=\"https://www.pagina12.com.ar/assets/media/assets/transparent.gif\"/>,\n",
       " <img class=\"lazyload show-for-medium-only\" data-src=\"https://images.pagina12.com.ar/styles/focal_3_2_960x640/public/2020-07/vicent-c3-adn.jpeg?itok=lxDD5Tmn\" src=\"https://www.pagina12.com.ar/assets/media/assets/transparent.gif\"/>,\n",
       " <img class=\"lazyload show-for-large-only\" data-src=\"https://images.pagina12.com.ar/styles/focal_3_2_960x640/public/2020-07/vicent-c3-adn.jpeg?itok=lxDD5Tmn\" src=\"https://www.pagina12.com.ar/assets/media/assets/transparent.gif\"/>,\n",
       " <img class=\"lazyload show-for-xlarge\" data-src=\"https://images.pagina12.com.ar/styles/focal_3_2_960x640/public/2020-07/vicent-c3-adn.jpeg?itok=lxDD5Tmn\" src=\"https://www.pagina12.com.ar/assets/media/assets/transparent.gif\"/>]"
      ]
     },
     "execution_count": 82,
     "metadata": {},
     "output_type": "execute_result"
    }
   ],
   "source": [
    "media = s_nota.find('div', attrs ={'class': 'article-main-media-image'})\n",
    "imagenes = media.find_all('img')\n",
    "imagenes"
   ]
  },
  {
   "cell_type": "code",
   "execution_count": 83,
   "metadata": {},
   "outputs": [
    {
     "name": "stdout",
     "output_type": "stream",
     "text": [
      "https://images.pagina12.com.ar/styles/focal_3_2_960x640/public/2020-07/vicent-c3-adn.jpeg?itok=lxDD5Tmn\n"
     ]
    }
   ],
   "source": [
    "if len(imagenes) == 0:\n",
    "    print('No se encontraron imagenes')\n",
    "else: \n",
    "    imagen = imagenes [-1]\n",
    "    img_src = imagen.get('data-src')\n",
    "    print(img_src)"
   ]
  },
  {
   "cell_type": "code",
   "execution_count": 84,
   "metadata": {},
   "outputs": [
    {
     "data": {
      "text/plain": [
       "200"
      ]
     },
     "execution_count": 84,
     "metadata": {},
     "output_type": "execute_result"
    }
   ],
   "source": [
    "img_req = requests.get(img_src)\n",
    "img_req.status_code\n"
   ]
  },
  {
   "cell_type": "code",
   "execution_count": 85,
   "metadata": {},
   "outputs": [],
   "source": [
    "from IPython.display import Image"
   ]
  },
  {
   "cell_type": "code",
   "execution_count": 86,
   "metadata": {},
   "outputs": [
    {
     "data": {
      "image/jpeg": "[encoded data removed]",
      "text/plain": [
       "<IPython.core.display.Image object>"
      ]
     },
     "execution_count": 86,
     "metadata": {},
     "output_type": "execute_result"
    }
   ],
   "source": [
    "Image(img_req.content)"
   ]
  },
  {
   "cell_type": "code",
   "execution_count": 87,
   "metadata": {},
   "outputs": [],
   "source": [
    "def obtener_cont_nota(url_nota):\n",
    "    nota = requests.get(url_nota)\n",
    "    if nota.status_code == 200:\n",
    "        s_nota = BeautifulSoup(nota.text, 'lxml')\n",
    "        try: \n",
    "            fecha = s_nota.find('span', attrs = {'pubdate':'pubdate'}).get('datetime')\n",
    "            volanta = s_nota.find('h2', attrs = {'class':'article-prefix'})\n",
    "            titulo = s_nota.find('h1', attrs = {'class':'article-title'})\n",
    "            copete = s_nota.find('div', attrs = {'class':'article-summary'})\n",
    "            cuerpo = s_nota.find('div', attrs = {'class':'article-text'})\n",
    "            autor = s_nota.find('div', attrs = {'class':'article-author'})\n",
    "            #Imagen\n",
    "            media = s_nota.find('div', attrs={'class':'article-main-media-image'})\n",
    "            imagen = media.find_all('img')\n",
    "            imagen = imagen[-1]\n",
    "            img_req = requests.get(imagen.get('data-src'))\n",
    "        except Exception as e:\n",
    "            pass\n",
    "        print(fecha) if fecha != None else print(\"Fecha no disponible\")\n",
    "        print(volanta.text) if volanta != None else print(\"Volanta no disponible\")\n",
    "        print(titulo.text) if titulo != None else print(\"Titulo no disponible\")\n",
    "        print(copete.text) if copete != None else print(\"Copete no disponible\")\n",
    "        print(cuerpo.text) if cuerpo != None else print(\"Cuerpo no disponible\")\n",
    "        print(autor.text) if autor != None else print(\"Autor no disponible\")\n",
    "        if 'img_req' in locals():\n",
    "            return Image(img_req.content)"
   ]
  },
  {
   "cell_type": "code",
   "execution_count": 88,
   "metadata": {},
   "outputs": [
    {
     "name": "stdout",
     "output_type": "stream",
     "text": [
      "2020-07-08\n",
      "Recuperación del mercado bursátil\n",
      "Siguió el alza de los bonos\n",
      "Los bonos argentinos continúan en aumento tras la presentación de la oferta de deuda. \n",
      "Los bonos argentinos continúan en aumento tras la presentación de la oferta de deuda. Se destacó la suba del 4,3 del Discount 2033, al tiempo que hubo un aumento del 2,2 por ciento del Argentina 2037. También se registró un avance de 2,2 por ciento en el Bonar 2020. En contraste, la bolsa porteña marcó una disminución de 1,9 por ciento, luego de la fuerte suba de este lunes del 9 por ciento. En lo que refiere al tipo de cambio implícito en la bolsa, el dólar mep terminó en 108,58 pesos, con un avance de 1,8 por ciento, en tanto que el contado con liquidación cerró a 109,48 pesos, al subir 1,3. El dólar oficial terminó la jornada en 74,64 pesos, con un aumento de 3 centavos.\n",
      "Por Adriana Meyer\n"
     ]
    },
    {
     "data": {
      "image/jpeg": "[encoded data removed]",
      "text/plain": [
       "<IPython.core.display.Image object>"
      ]
     },
     "execution_count": 88,
     "metadata": {},
     "output_type": "execute_result"
    }
   ],
   "source": [
    "obtener_cont_nota('https://www.pagina12.com.ar/277152-siguio-el-alza-de-los-bonos')"
   ]
  },
  {
   "cell_type": "code",
   "execution_count": 89,
   "metadata": {},
   "outputs": [],
   "source": [
    "def obtener_info(s_nota):\n",
    "    #Dicccionario vacio\n",
    "    rec_dict = {}\n",
    "    \n",
    "    #Extraemos fecha\n",
    "    fecha = s_nota.find('span', attrs = {'pubdate':'pubdate'}).get('datetime')\n",
    "    if fecha:\n",
    "        rec_dict['fecha'] = fecha\n",
    "    else:\n",
    "        rec_dict['fecha'] = None\n",
    "    \n",
    "    #Extraer título\n",
    "    titulo = s_nota.find('h1', attrs = {'class':'article-title'})\n",
    "    if titulo:\n",
    "        rec_dict['titulo'] = titulo.text\n",
    "    else:\n",
    "        ret_dict['titulo'] = None\n",
    "        \n",
    "    #Extraer volanta\n",
    "    volanta = s_nota.find('h2', attrs = {'class':'article-prefix'})\n",
    "    if volanta: \n",
    "        rec_dict['volanta'] = volanta.text\n",
    "    else:\n",
    "        rec_dict['volanta'] = None\n",
    "        \n",
    "    #Extraer copete\n",
    "    copete = s_nota.find('div', attrs = {'class':'article-summary'})\n",
    "    if copete:\n",
    "        rec_dict['copete'] = copete.text\n",
    "    else:\n",
    "        rec_dict['copete'] = None\n",
    "        \n",
    "    #Extraer autor \n",
    "    autor = s_nota.find('div', attrs = {'class':'article-author'})\n",
    "    if autor:\n",
    "        rec_dict['autor'] = autor.text\n",
    "    else:\n",
    "        rec_dict['autor'] = None\n",
    "        \n",
    "    #Extraer imagen\n",
    "    media = s_nota.find('div', attrs= {'class': 'article-main-media-image'})\n",
    "    if media:\n",
    "        imagenes = media.find_all('img')\n",
    "        if len(imagenes) == 0:\n",
    "            print('No se encontraron imagenes')\n",
    "        else:\n",
    "            imagen = imagenes[-1]\n",
    "            img_src = imagen.get('data-src')\n",
    "            try:\n",
    "                img_req = requests.get(img_src)\n",
    "                if img_req.status_code == 200:\n",
    "                    rec_dict['imagen'] = img_req.content\n",
    "                else: \n",
    "                    rec_dict['imagen'] = None \n",
    "            except:\n",
    "                print('No se pudo obtener la imagen')\n",
    "                \n",
    "    else:\n",
    "        print('No se encontro la media')\n",
    "        \n",
    "    #Extraer cuerpo\n",
    "    cuerpo = s_nota.find('div', attrs = {'class':'article-text'})\n",
    "    if cuerpo:\n",
    "        rec_dict['cuerpo'] = cuerpo.text\n",
    "    else:\n",
    "        rec_dict['cuerpo'] = None\n",
    "        \n",
    "    return rec_dict\n"
   ]
  },
  {
   "cell_type": "code",
   "execution_count": 90,
   "metadata": {},
   "outputs": [],
   "source": [
    "def scrape_nota(url):\n",
    "    try:\n",
    "        nota= requests.get(url)\n",
    "    except Exception as e:\n",
    "        print(f'Error scareapeadno URL', url)\n",
    "        print(e)\n",
    "        return None\n",
    "    \n",
    "    if nota.status_code != 200:\n",
    "        print(f'Error obteniendo la nota {url}')\n",
    "        print(f'Statis Code = {nota.status_code}')\n",
    "        return None\n",
    "    \n",
    "    s_nota = BeautifulSoup(nota.text, 'lxml')\n",
    "    \n",
    "    rec_dict = obtener_info(s_nota)\n",
    "    rec_dict['url'] = url\n",
    "    \n",
    "    return rec_dict"
   ]
  },
  {
   "cell_type": "code",
   "execution_count": 91,
   "metadata": {},
   "outputs": [],
   "source": [
    "#scrape_nota('https://www.pagina12.com.ar/277152-siguio-el-alza-de-los-bonos')"
   ]
  },
  {
   "cell_type": "code",
   "execution_count": 92,
   "metadata": {},
   "outputs": [
    {
     "data": {
      "text/plain": [
       "['https://www.pagina12.com.ar/secciones/el-pais',\n",
       " 'https://www.pagina12.com.ar/secciones/universidad-diario',\n",
       " 'https://www.pagina12.com.ar/secciones/economia',\n",
       " 'https://www.pagina12.com.ar/secciones/sociedad',\n",
       " 'https://www.pagina12.com.ar/suplementos/cultura-y-espectaculos',\n",
       " 'https://www.pagina12.com.ar/secciones/el-mundo',\n",
       " 'https://www.pagina12.com.ar/secciones/deportes',\n",
       " 'https://www.pagina12.com.ar/secciones/contratapa']"
      ]
     },
     "execution_count": 92,
     "metadata": {},
     "output_type": "execute_result"
    }
   ],
   "source": [
    "links_secciones"
   ]
  },
  {
   "cell_type": "code",
   "execution_count": 95,
   "metadata": {},
   "outputs": [
    {
     "name": "stdout",
     "output_type": "stream",
     "text": [
      "No se pudo obtener la sección https://www.pagina12.com.ar/suplementos/cultura-y-espectaculos\n"
     ]
    }
   ],
   "source": [
    "notas = []\n",
    "for link in links_secciones:\n",
    "    try:\n",
    "        r = requests.get(link)\n",
    "        if r.status_code == 200:\n",
    "            soup = BeautifulSoup(r.text, 'lxml')\n",
    "            notas.extend(traer_links(soup))\n",
    "        else:\n",
    "            print('No se pudo obtener la sección', link)\n",
    "    except:\n",
    "        print ('No se pudo obtener la sección', link)"
   ]
  },
  {
   "cell_type": "code",
   "execution_count": 96,
   "metadata": {},
   "outputs": [
    {
     "data": {
      "text/plain": [
       "['https://www.pagina12.com.ar/277266-malena-galmarini-activo-obras-de-saneamiento-en-ezeiza',\n",
       " 'https://www.pagina12.com.ar/277259-defensa-la-vuelta-del-727',\n",
       " 'https://www.pagina12.com.ar/277230-vuelta-a-clases-protocolo-para-el-reencuentro',\n",
       " 'https://www.pagina12.com.ar/277229-coronavirus-victor-hugo-morales-comparo-el-mundial-italia-90',\n",
       " 'https://www.pagina12.com.ar/277226-el-secretario-de-obras-publicas-martin-gill-se-contagio-coro',\n",
       " 'https://www.pagina12.com.ar/277225-lazaro-baez-cada-vez-mas-cerca-de-la-prision-domiciliaria',\n",
       " 'https://www.pagina12.com.ar/277213-coronavirus-martin-insaurralde-inauguro-el-hospital-modular-',\n",
       " 'https://www.pagina12.com.ar/277207-cuarentena-en-amba-necesitamos-mas-dias-para-decidir-y-ver-l',\n",
       " 'https://www.pagina12.com.ar/277206-coronavirus-la-tarjeta-alimentar-recibe-financiamiento-por-3',\n",
       " 'https://www.pagina12.com.ar/277199-el-lapsus-de-tato-young-aca-todos-los-de-cambiemos',\n",
       " 'https://www.pagina12.com.ar/277196-el-hermano-de-juan-castro-cruzo-a-fernando-iglesias',\n",
       " 'https://www.pagina12.com.ar/277026-coronavirus-el-ex-espia-del-ejercito-eduardo-ullua-debera-se',\n",
       " 'https://www.pagina12.com.ar/277046-alberto-fernandez-llego-la-hora-de-poner-al-capitalismo-en-s',\n",
       " 'https://www.pagina12.com.ar/277064-permiso-denegado-para-raul-guglielminetti',\n",
       " 'https://www.pagina12.com.ar/277088-la-cupula-de-la-afi-de-macri-tiene-cita-con-el-juez',\n",
       " 'https://www.pagina12.com.ar/277129-las-universidades-ya-tienen-su-protocolo-para-la-vuelta-a-cl',\n",
       " 'https://www.pagina12.com.ar/276285-las-estrategias-ante-la-emergencia-educativa-en-el-mundo',\n",
       " 'https://www.pagina12.com.ar/276147-coronavirus-y-educacion-con-permiso-para-cursar-en-las-facul',\n",
       " 'https://www.pagina12.com.ar/275943-el-operativo-detectar-como-parte-de-la-carrera-de-medicina',\n",
       " 'https://www.pagina12.com.ar/274637-coronavirus-y-educacion-como-sera-la-vuelta-a-clases-en-las-',\n",
       " 'https://www.pagina12.com.ar/274423-educacion-racismo-y-aceite-barato',\n",
       " 'https://www.pagina12.com.ar/273440-un-proyecto-para-que-pilar-tenga-su-universidad-nacional',\n",
       " 'https://www.pagina12.com.ar/273461-presupuesto-universitario-debate-por-el-reclamo-de-mas-fondo',\n",
       " 'https://www.pagina12.com.ar/272995-un-espacio-de-encuentro-con-el-arte-y-la-cultura-para-combat',\n",
       " 'https://www.pagina12.com.ar/272038-la-nueva-foto-del-sistema-universitario-mas-alumnas-y-mas-eg',\n",
       " 'https://www.pagina12.com.ar/271709-jaurias-al-ataque-en-ciudad-universitaria',\n",
       " 'https://www.pagina12.com.ar/271538-la-regulacion-del-trabajo-a-distancia-de-los-profesores',\n",
       " 'https://www.pagina12.com.ar/270548-coronavirus-un-protocolo-para-volver-a-la-facultad',\n",
       " 'https://www.pagina12.com.ar/269595-coronavirus-y-cultura-el-mundo-sigue-un-ciclo-de-entrevistas',\n",
       " 'https://www.pagina12.com.ar/268449-un-lugar-para-las-islas-malvinas-en-el-sistema-universitario',\n",
       " 'https://www.pagina12.com.ar/277216-vicentin-piden-inhibir-los-bienes-de-gonzalez-fraga-lucas-ll',\n",
       " 'https://www.pagina12.com.ar/275496-jubilados-julio-2020-quienes-cobran-este-miercoles-8',\n",
       " 'https://www.pagina12.com.ar/275501-asignacion-universal-por-embarazo-julio-2020-quienes-cobran-',\n",
       " 'https://www.pagina12.com.ar/275499-auh-julio-2020-quienes-cobran-este-miercoles-8',\n",
       " 'https://www.pagina12.com.ar/273770-ife-anses-quienes-cobran-este-miercoles-8-de-julio',\n",
       " 'https://www.pagina12.com.ar/277154-en-mayo-la-produccion-en-fabricas-cayo-26',\n",
       " 'https://www.pagina12.com.ar/277155-lento-regreso-de-la-construccion',\n",
       " 'https://www.pagina12.com.ar/277067-sorpresas-te-da-la-vida-cristina-kirchner-cruzo-a-infobae-y-',\n",
       " 'https://www.pagina12.com.ar/277084-latam-busca-irse-y-pagar-lo-menos-posible',\n",
       " 'https://www.pagina12.com.ar/277093-el-plan-repro-sigue-en-la-trinchera',\n",
       " 'https://www.pagina12.com.ar/277100-fusion-de-aerolineas',\n",
       " 'https://www.pagina12.com.ar/277108-moratoria-recargada-para-personas-y-empresas',\n",
       " 'https://www.pagina12.com.ar/277130-el-turno-de-sumar-adhesiones-al-canje-de-deuda',\n",
       " 'https://www.pagina12.com.ar/277140-vicentin-fue-intimada-a-presentar-su-balance',\n",
       " 'https://www.pagina12.com.ar/277141-alivio-de-la-deuda-por-30-mil-millones-de-dolares',\n",
       " 'https://www.pagina12.com.ar/277281-israel-un-tiburon-ballena-atemorizo-a-nadadores-cerca-de-la-',\n",
       " 'https://www.pagina12.com.ar/277279-facundo-castro-allanan-la-comisaria-donde-demoraron-al-joven',\n",
       " 'https://www.pagina12.com.ar/277256-las-cataratas-del-iguazu-y-el-valle-de-la-luna-reabren-para-',\n",
       " 'https://www.pagina12.com.ar/277252-esta-vivo-lo-vamos-a-encontrar-le-dijo-sergio-berni-a-la-mam',\n",
       " 'https://www.pagina12.com.ar/277242-fibrosis-quistica-el-presidente-se-comprometio-a-darle-impul',\n",
       " 'https://www.pagina12.com.ar/277223-cromanon-el-reclamo-de-los-sobrevivientes-llego-a-la-cidh',\n",
       " 'https://www.pagina12.com.ar/277214-cientificos-relacionan-un-tipo-raro-de-inflamacion-cerebral-',\n",
       " 'https://www.pagina12.com.ar/277208-detuvieron-una-ambulancia-cargada-con-cajas-de-fernet',\n",
       " 'https://www.pagina12.com.ar/277201-coronavirus-en-argentina-murieron-otras-11-personas-en-las-u',\n",
       " 'https://www.pagina12.com.ar/277010-coronavirus-la-justicia-ordena-que-el-gobierno-porteno-prote',\n",
       " 'https://www.pagina12.com.ar/277014-la-reaparicion-de-la-ameba-comecerebros-provoco-alarma-en-fl',\n",
       " 'https://www.pagina12.com.ar/277024-prendieron-fuego-a-una-persona-que-dormia-en-la-calle',\n",
       " 'https://www.pagina12.com.ar/277027-coronavirus-traslado-en-un-geriatrico-de-palermo-ante-12-pos',\n",
       " 'https://www.pagina12.com.ar/277035-coronavirus-argentina-podria-participar-de-un-ensayo-clinico',\n",
       " 'https://www.pagina12.com.ar/277041-una-mujer-fallecio-en-australia-despues-de-ser-lamida-por-su',\n",
       " 'https://www.pagina12.com.ar/277276-harvard-y-el-mit-demandan-a-donald-trump-por-la-posible-expu',\n",
       " 'https://www.pagina12.com.ar/277273-el-polemico-video-de-bolsonaro-tomando-cloroquina-en-camara-',\n",
       " 'https://www.pagina12.com.ar/277271-coronavirus-estados-unidos-supero-los-3-millones-de-contagio',\n",
       " 'https://www.pagina12.com.ar/277261-encontraron-restos-de-500-guillotinados-durante-la-revolucio',\n",
       " 'https://www.pagina12.com.ar/277231-la-impresionante-explosion-de-un-meteoro-sobre-tokio',\n",
       " 'https://www.pagina12.com.ar/276994-sin-barbijo-bolsonaro-conto-que-contrajo-el-coronavirus',\n",
       " 'https://www.pagina12.com.ar/277036-bolsonaro-con-coronavirus-una-incertidumbre-mas-para-brasil',\n",
       " 'https://www.pagina12.com.ar/277066-lluvia-de-criticas-a-boris-johnson-por-el-abrupto-desconfina',\n",
       " 'https://www.pagina12.com.ar/277078-hebe-de-bonafini-le-pidio-a-la-reina-isabel-que-devuelva-el-',\n",
       " 'https://www.pagina12.com.ar/277079-renuncio-el-vicepresidente-de-ecuador',\n",
       " 'https://www.pagina12.com.ar/277091-el-coronavirus-afecto-a-varios-lideres-del-mundo',\n",
       " 'https://www.pagina12.com.ar/277111-el-eaaf-identifico-los-restos-de-un-desaparecido-de-ayotzina',\n",
       " 'https://www.pagina12.com.ar/277136-jair-bolsonaro-tiene-la-gripecita',\n",
       " 'https://www.pagina12.com.ar/277009-estados-unidos-evalua-prohibir-aplicaciones-chinas-como-tik-',\n",
       " 'https://www.pagina12.com.ar/277270-fernando-alonso-estoy-extremadamente-feliz',\n",
       " 'https://www.pagina12.com.ar/277268-el-palista-acusado-de-facilitar-el-abuso-de-menores-a-su-pad',\n",
       " 'https://www.pagina12.com.ar/277243-coronavirus-djokovic-siente-que-hay-una-caza-de-brujas',\n",
       " 'https://www.pagina12.com.ar/277232-conmocion-por-la-muerte-de-un-campeon-de-snowboard-mientras-',\n",
       " 'https://www.pagina12.com.ar/277203-el-espanol-fernando-alonso-vuelve-a-la-formula-1-y-correra-c',\n",
       " 'https://www.pagina12.com.ar/277121-subcampeones-morales',\n",
       " 'https://www.pagina12.com.ar/277044-huracan-busca-refuerzos-en-la-primera-nacional',\n",
       " 'https://www.pagina12.com.ar/277075-riquelme-lo-llamo-y-tevez-seguira-en-boca',\n",
       " 'https://www.pagina12.com.ar/277109-pena-maxima-la-tapa-de-la-final',\n",
       " 'https://www.pagina12.com.ar/277128-milan-dio-vuelta-un-partido-epico-para-vencer-a-juventus',\n",
       " 'https://www.pagina12.com.ar/277133-los-clubes-europeos-perderan-cifras-millonarias',\n",
       " 'https://www.pagina12.com.ar/277142-arsenal-igualo-ante-leicester-con-el-argentino-emiliano-mart',\n",
       " 'https://www.pagina12.com.ar/276974-quien-es-pat-mahomes-la-estrella-que-ganara-115-000-dolares-',\n",
       " 'https://www.pagina12.com.ar/276989-la-crisis-brasilena-llega-a-racing',\n",
       " 'https://www.pagina12.com.ar/276995-burruchaga-no-estoy-al-pedo-de-brazos-cruzados',\n",
       " 'https://www.pagina12.com.ar/277081-italia-90-restart',\n",
       " 'https://www.pagina12.com.ar/276913-homo-inocente',\n",
       " 'https://www.pagina12.com.ar/276675-satchmo',\n",
       " 'https://www.pagina12.com.ar/276563-horas-dificiles',\n",
       " 'https://www.pagina12.com.ar/276360-desquicio-las-torres-gemelas-de-trump',\n",
       " 'https://www.pagina12.com.ar/276139-otra-mirada-sobre-la-llegada-de-un-jaguar-a-la-tranquera',\n",
       " 'https://www.pagina12.com.ar/275940-los-ideologos-de-hitler',\n",
       " 'https://www.pagina12.com.ar/275917-hitler-no-tenia-ideas-radicales',\n",
       " 'https://www.pagina12.com.ar/275693-oda-al-parana',\n",
       " 'https://www.pagina12.com.ar/275450-homo-des-alarmado',\n",
       " 'https://www.pagina12.com.ar/275299-del-amor-y-del-odio',\n",
       " 'https://www.pagina12.com.ar/275032-sacrificio',\n",
       " 'https://www.pagina12.com.ar/274902-la-curiosidad-mata-al-gato',\n",
       " 'https://www.pagina12.com.ar/274691-el-honor-perdido-del-senor-kawaguchi',\n",
       " 'https://www.pagina12.com.ar/274454-los-runners-y-los-anticuarentena']"
      ]
     },
     "execution_count": 96,
     "metadata": {},
     "output_type": "execute_result"
    }
   ],
   "source": [
    "notas"
   ]
  },
  {
   "cell_type": "code",
   "execution_count": 97,
   "metadata": {},
   "outputs": [
    {
     "name": "stdout",
     "output_type": "stream",
     "text": [
      "Scrapenado la nota 0/104\n",
      "Scrapenado la nota 1/104\n",
      "Scrapenado la nota 2/104\n",
      "Scrapenado la nota 3/104\n",
      "Scrapenado la nota 4/104\n",
      "Scrapenado la nota 5/104\n",
      "Scrapenado la nota 6/104\n",
      "Scrapenado la nota 7/104\n",
      "Scrapenado la nota 8/104\n",
      "Scrapenado la nota 9/104\n",
      "Scrapenado la nota 10/104\n",
      "Scrapenado la nota 11/104\n",
      "Scrapenado la nota 12/104\n",
      "Scrapenado la nota 13/104\n",
      "Scrapenado la nota 14/104\n",
      "Scrapenado la nota 15/104\n",
      "Scrapenado la nota 16/104\n",
      "Scrapenado la nota 17/104\n",
      "Scrapenado la nota 18/104\n",
      "Scrapenado la nota 19/104\n",
      "Scrapenado la nota 20/104\n",
      "Scrapenado la nota 21/104\n",
      "Scrapenado la nota 22/104\n",
      "Scrapenado la nota 23/104\n",
      "Scrapenado la nota 24/104\n",
      "Scrapenado la nota 25/104\n",
      "Scrapenado la nota 26/104\n",
      "Scrapenado la nota 27/104\n",
      "Scrapenado la nota 28/104\n",
      "Scrapenado la nota 29/104\n",
      "Scrapenado la nota 30/104\n",
      "Scrapenado la nota 31/104\n",
      "Scrapenado la nota 32/104\n",
      "Scrapenado la nota 33/104\n",
      "Scrapenado la nota 34/104\n",
      "Scrapenado la nota 35/104\n",
      "Scrapenado la nota 36/104\n",
      "Scrapenado la nota 37/104\n",
      "Scrapenado la nota 38/104\n",
      "Scrapenado la nota 39/104\n",
      "Scrapenado la nota 40/104\n",
      "Scrapenado la nota 41/104\n",
      "Scrapenado la nota 42/104\n",
      "Scrapenado la nota 43/104\n",
      "Scrapenado la nota 44/104\n",
      "Scrapenado la nota 45/104\n",
      "Scrapenado la nota 46/104\n",
      "Scrapenado la nota 47/104\n",
      "Scrapenado la nota 48/104\n",
      "Scrapenado la nota 49/104\n",
      "Scrapenado la nota 50/104\n",
      "Scrapenado la nota 51/104\n",
      "Scrapenado la nota 52/104\n",
      "Scrapenado la nota 53/104\n",
      "Scrapenado la nota 54/104\n",
      "Scrapenado la nota 55/104\n",
      "Scrapenado la nota 56/104\n",
      "Scrapenado la nota 57/104\n",
      "Scrapenado la nota 58/104\n",
      "Scrapenado la nota 59/104\n",
      "Scrapenado la nota 60/104\n",
      "Scrapenado la nota 61/104\n",
      "Scrapenado la nota 62/104\n",
      "Scrapenado la nota 63/104\n",
      "Scrapenado la nota 64/104\n",
      "Scrapenado la nota 65/104\n",
      "Scrapenado la nota 66/104\n",
      "Scrapenado la nota 67/104\n",
      "Scrapenado la nota 68/104\n",
      "Scrapenado la nota 69/104\n",
      "Scrapenado la nota 70/104\n",
      "Scrapenado la nota 71/104\n",
      "Scrapenado la nota 72/104\n",
      "Scrapenado la nota 73/104\n",
      "Scrapenado la nota 74/104\n",
      "Scrapenado la nota 75/104\n",
      "Scrapenado la nota 76/104\n",
      "Scrapenado la nota 77/104\n",
      "Scrapenado la nota 78/104\n",
      "Scrapenado la nota 79/104\n",
      "Scrapenado la nota 80/104\n",
      "Scrapenado la nota 81/104\n",
      "Scrapenado la nota 82/104\n",
      "Scrapenado la nota 83/104\n",
      "Scrapenado la nota 84/104\n",
      "Scrapenado la nota 85/104\n",
      "Scrapenado la nota 86/104\n",
      "Scrapenado la nota 87/104\n",
      "Scrapenado la nota 88/104\n",
      "Scrapenado la nota 89/104\n",
      "Scrapenado la nota 90/104\n",
      "Scrapenado la nota 91/104\n",
      "Scrapenado la nota 92/104\n",
      "Scrapenado la nota 93/104\n",
      "Scrapenado la nota 94/104\n",
      "Scrapenado la nota 95/104\n",
      "Scrapenado la nota 96/104\n",
      "No se encontro la media\n",
      "Scrapenado la nota 97/104\n",
      "Scrapenado la nota 98/104\n",
      "Scrapenado la nota 99/104\n",
      "Scrapenado la nota 100/104\n",
      "Scrapenado la nota 101/104\n",
      "Scrapenado la nota 102/104\n",
      "Scrapenado la nota 103/104\n"
     ]
    }
   ],
   "source": [
    "data = []\n",
    "for i, nota in enumerate(notas):\n",
    "    print(f'Scrapenado la nota {i}/{len(notas)}')\n",
    "    data.append(scrape_nota(nota))"
   ]
  },
  {
   "cell_type": "code",
   "execution_count": 98,
   "metadata": {},
   "outputs": [
    {
     "data": {
      "text/plain": [
       "104"
      ]
     },
     "execution_count": 98,
     "metadata": {},
     "output_type": "execute_result"
    }
   ],
   "source": [
    "len(data)"
   ]
  },
  {
   "cell_type": "code",
   "execution_count": 99,
   "metadata": {},
   "outputs": [],
   "source": [
    "import pandas as pd"
   ]
  },
  {
   "cell_type": "code",
   "execution_count": 100,
   "metadata": {},
   "outputs": [],
   "source": [
    "df = pd.DataFrame(data)"
   ]
  },
  {
   "cell_type": "code",
   "execution_count": 101,
   "metadata": {},
   "outputs": [
    {
     "data": {
      "text/html": [
       "<div>\n",
       "<style scoped>\n",
       "    .dataframe tbody tr th:only-of-type {\n",
       "        vertical-align: middle;\n",
       "    }\n",
       "\n",
       "    .dataframe tbody tr th {\n",
       "        vertical-align: top;\n",
       "    }\n",
       "\n",
       "    .dataframe thead th {\n",
       "        text-align: right;\n",
       "    }\n",
       "</style>\n",
       "<table border=\"1\" class=\"dataframe\">\n",
       "  <thead>\n",
       "    <tr style=\"text-align: right;\">\n",
       "      <th></th>\n",
       "      <th>fecha</th>\n",
       "      <th>titulo</th>\n",
       "      <th>volanta</th>\n",
       "      <th>copete</th>\n",
       "      <th>autor</th>\n",
       "      <th>imagen</th>\n",
       "      <th>cuerpo</th>\n",
       "      <th>url</th>\n",
       "    </tr>\n",
       "  </thead>\n",
       "  <tbody>\n",
       "    <tr>\n",
       "      <td>0</td>\n",
       "      <td>2020-07-08</td>\n",
       "      <td>Malena Galmarini activó obras de saneamiento e...</td>\n",
       "      <td>Junto al intendente interino Gastón Granados</td>\n",
       "      <td>Los planes en marcha se llaman “Agua + Trabajo...</td>\n",
       "      <td>Por Adriana Meyer</td>\n",
       "      <td>b'\\xff\\xd8\\xff\\xe0\\x00\\x10JFIF\\x00\\x01\\x01\\x00...</td>\n",
       "      <td>La presidenta de AySA, Malena Galmarini, y el ...</td>\n",
       "      <td>https://www.pagina12.com.ar/277266-malena-galm...</td>\n",
       "    </tr>\n",
       "    <tr>\n",
       "      <td>1</td>\n",
       "      <td>2020-07-08</td>\n",
       "      <td>Defensa: la vuelta del 727</td>\n",
       "      <td>La derogación de la reforma macrista a las Fue...</td>\n",
       "      <td>None</td>\n",
       "      <td>Por Jorge Luis Bernetti</td>\n",
       "      <td>b'\\xff\\xd8\\xff\\xe0\\x00\\x10JFIF\\x00\\x01\\x01\\x00...</td>\n",
       "      <td>Un decreto del gobierno nacional ha restableci...</td>\n",
       "      <td>https://www.pagina12.com.ar/277259-defensa-la-...</td>\n",
       "    </tr>\n",
       "    <tr>\n",
       "      <td>2</td>\n",
       "      <td>2020-07-08</td>\n",
       "      <td>Vuelta a clases: protocolo para el reencuentro</td>\n",
       "      <td>None</td>\n",
       "      <td>None</td>\n",
       "      <td>Por Viviana Alonso *</td>\n",
       "      <td>b'\\xff\\xd8\\xff\\xe0\\x00\\x10JFIF\\x00\\x01\\x01\\x00...</td>\n",
       "      <td>Unes niñes, que compartían el aula hasta hace ...</td>\n",
       "      <td>https://www.pagina12.com.ar/277230-vuelta-a-cl...</td>\n",
       "    </tr>\n",
       "    <tr>\n",
       "      <td>3</td>\n",
       "      <td>2020-07-08</td>\n",
       "      <td>Coronavirus: Víctor Hugo Morales comparó el mu...</td>\n",
       "      <td>A 30 años de aquella final</td>\n",
       "      <td>\"Hoy se cumplen 30 años de la final de Italia ...</td>\n",
       "      <td>Por Adriana Meyer</td>\n",
       "      <td>b'\\xff\\xd8\\xff\\xe0\\x00\\x10JFIF\\x00\\x01\\x01\\x00...</td>\n",
       "      <td>A 30 años de la final del mundial Italia 90, e...</td>\n",
       "      <td>https://www.pagina12.com.ar/277229-coronavirus...</td>\n",
       "    </tr>\n",
       "    <tr>\n",
       "      <td>4</td>\n",
       "      <td>2020-07-08</td>\n",
       "      <td>El secretario de Obras Públicas, Martín Gill, ...</td>\n",
       "      <td>Es el segundo funcionario nacional con covid-19</td>\n",
       "      <td>None</td>\n",
       "      <td>Por Adriana Meyer</td>\n",
       "      <td>b'\\xff\\xd8\\xff\\xe0\\x00\\x10JFIF\\x00\\x01\\x01\\x00...</td>\n",
       "      <td>El secretario de Obras Públicas de la Nación, ...</td>\n",
       "      <td>https://www.pagina12.com.ar/277226-el-secretar...</td>\n",
       "    </tr>\n",
       "  </tbody>\n",
       "</table>\n",
       "</div>"
      ],
      "text/plain": [
       "        fecha                                             titulo  \\\n",
       "0  2020-07-08  Malena Galmarini activó obras de saneamiento e...   \n",
       "1  2020-07-08                         Defensa: la vuelta del 727   \n",
       "2  2020-07-08     Vuelta a clases: protocolo para el reencuentro   \n",
       "3  2020-07-08  Coronavirus: Víctor Hugo Morales comparó el mu...   \n",
       "4  2020-07-08  El secretario de Obras Públicas, Martín Gill, ...   \n",
       "\n",
       "                                             volanta  \\\n",
       "0       Junto al intendente interino Gastón Granados   \n",
       "1  La derogación de la reforma macrista a las Fue...   \n",
       "2                                               None   \n",
       "3                         A 30 años de aquella final   \n",
       "4    Es el segundo funcionario nacional con covid-19   \n",
       "\n",
       "                                              copete                    autor  \\\n",
       "0  Los planes en marcha se llaman “Agua + Trabajo...        Por Adriana Meyer   \n",
       "1                                               None  Por Jorge Luis Bernetti   \n",
       "2                                               None     Por Viviana Alonso *   \n",
       "3  \"Hoy se cumplen 30 años de la final de Italia ...        Por Adriana Meyer   \n",
       "4                                               None        Por Adriana Meyer   \n",
       "\n",
       "                                              imagen  \\\n",
       "0  b'\\xff\\xd8\\xff\\xe0\\x00\\x10JFIF\\x00\\x01\\x01\\x00...   \n",
       "1  b'\\xff\\xd8\\xff\\xe0\\x00\\x10JFIF\\x00\\x01\\x01\\x00...   \n",
       "2  b'\\xff\\xd8\\xff\\xe0\\x00\\x10JFIF\\x00\\x01\\x01\\x00...   \n",
       "3  b'\\xff\\xd8\\xff\\xe0\\x00\\x10JFIF\\x00\\x01\\x01\\x00...   \n",
       "4  b'\\xff\\xd8\\xff\\xe0\\x00\\x10JFIF\\x00\\x01\\x01\\x00...   \n",
       "\n",
       "                                              cuerpo  \\\n",
       "0  La presidenta de AySA, Malena Galmarini, y el ...   \n",
       "1  Un decreto del gobierno nacional ha restableci...   \n",
       "2  Unes niñes, que compartían el aula hasta hace ...   \n",
       "3  A 30 años de la final del mundial Italia 90, e...   \n",
       "4  El secretario de Obras Públicas de la Nación, ...   \n",
       "\n",
       "                                                 url  \n",
       "0  https://www.pagina12.com.ar/277266-malena-galm...  \n",
       "1  https://www.pagina12.com.ar/277259-defensa-la-...  \n",
       "2  https://www.pagina12.com.ar/277230-vuelta-a-cl...  \n",
       "3  https://www.pagina12.com.ar/277229-coronavirus...  \n",
       "4  https://www.pagina12.com.ar/277226-el-secretar...  "
      ]
     },
     "execution_count": 101,
     "metadata": {},
     "output_type": "execute_result"
    }
   ],
   "source": [
    "df.head()"
   ]
  },
  {
   "cell_type": "code",
   "execution_count": 102,
   "metadata": {},
   "outputs": [],
   "source": [
    "df.to_csv('Notas Pagina12.csv')"
   ]
  },
  {
   "cell_type": "code",
   "execution_count": null,
   "metadata": {},
   "outputs": [],
   "source": []
  }
 ],
 "metadata": {
  "kernelspec": {
   "display_name": "Python 3",
   "language": "python",
   "name": "python3"
  },
  "language_info": {
   "codemirror_mode": {
    "name": "ipython",
    "version": 3
   },
   "file_extension": ".py",
   "mimetype": "text/x-python",
   "name": "python",
   "nbconvert_exporter": "python",
   "pygments_lexer": "ipython3",
   "version": "3.7.4"
  }
 },
 "nbformat": 4,
 "nbformat_minor": 2
}
